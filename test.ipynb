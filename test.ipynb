{
 "cells": [
  {
   "cell_type": "code",
   "execution_count": 1,
   "metadata": {},
   "outputs": [],
   "source": [
    "from langchain_ollama.llms import OllamaLLM\n",
    "\n",
    "model = OllamaLLM(model='deepseek-r1:1.5b')"
   ]
  },
  {
   "cell_type": "code",
   "execution_count": 2,
   "metadata": {},
   "outputs": [
    {
     "name": "stdout",
     "output_type": "stream",
     "text": [
      "Assistent: <think>\n",
      "\n",
      "</think>\n",
      "\n",
      "Hi there! How can I assist you today? If you have any questions or need help with something, feel free to ask.\n",
      "Assistent: <think>\n",
      "\n",
      "</think>\n",
      "\n",
      "It seems like you might be referring to \"langgraph,\" but there isn't a widely recognized or established tool or platform by that exact name. Could you be referring to something specific, such as a graphing library, a data visualization tool, or perhaps a concept from a particular domain?\n",
      "\n",
      "If you meant a **graphing library** like **Matplotlib**, **Plotly**, or **Seaborn** in Python, I can provide information about those. If it's related to **linguistic graphs** (e.g., dependency graphs in linguistics), that could be another context.\n",
      "\n",
      "Let me know how I can assist further!\n",
      "Chatbot: Goodbye!\n"
     ]
    }
   ],
   "source": [
    "\n",
    "from typing import List,Dict\n",
    "from langgraph.graph import StateGraph, START, END\n",
    "from langchain_ollama.llms import OllamaLLM\n",
    "\n",
    "#Step :1 Define State\n",
    "class State(Dict):\n",
    "    messages: List[Dict[str, str]]\n",
    "    \n",
    "    \n",
    "# Step 2: Initialize the State graph\n",
    "graph_builder = StateGraph(State)\n",
    "\n",
    "llm = OllamaLLM(model='deepseek-r1:1.5b')\n",
    "\n",
    "\n",
    "# Step 3: Define chatbot function\n",
    "def chatbot(state: State):\n",
    "    response = llm.invoke(state[\"messages\"])\n",
    "    state[\"messages\"].append({\"role\": \"assistant\", \"content\": response})\n",
    "    return {\"messages\": state[\"messages\"]}\n",
    "\n",
    "# Add nodes and edges\n",
    "graph_builder.add_node(\"chatbot\", chatbot)\n",
    "graph_builder.add_edge(START, \"chatbot\")\n",
    "graph_builder.add_edge(\"chatbot\", END)\n",
    "    \n",
    "#Complie the graph \n",
    "graph = graph_builder.compile()\n",
    "\n",
    "#Stream updates\n",
    "def stream_graph_updates(user_input: str):\n",
    "    state = {\"messages\": [{\"role\": \"user\", \"content\": user_input}]}\n",
    "    for event in graph.stream(state):\n",
    "        for value in event.values():\n",
    "            print(\"Assistent: \" + value[\"messages\"][-1][\"content\"])\n",
    "\n",
    "# Step 4: Run the chatbot in a loop\n",
    "if __name__ == \"__main__\":\n",
    "    while True:\n",
    "        try:\n",
    "            user_input = input(\"User: \")\n",
    "            if user_input.lower() in [\"exit\", \"quit\", \"q\"]:\n",
    "                print(\"Chatbot: Goodbye!\")\n",
    "                break\n",
    "            stream_graph_updates(user_input)\n",
    "        except Exception as e:\n",
    "            print(f\"An Error Occured.. {e}\")    "
   ]
  },
  {
   "cell_type": "code",
   "execution_count": null,
   "metadata": {},
   "outputs": [],
   "source": []
  }
 ],
 "metadata": {
  "kernelspec": {
   "display_name": "Python 3",
   "language": "python",
   "name": "python3"
  },
  "language_info": {
   "codemirror_mode": {
    "name": "ipython",
    "version": 3
   },
   "file_extension": ".py",
   "mimetype": "text/x-python",
   "name": "python",
   "nbconvert_exporter": "python",
   "pygments_lexer": "ipython3",
   "version": "3.12.0"
  }
 },
 "nbformat": 4,
 "nbformat_minor": 2
}
